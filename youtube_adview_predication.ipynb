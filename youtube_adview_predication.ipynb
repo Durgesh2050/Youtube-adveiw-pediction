{
  "nbformat": 4,
  "nbformat_minor": 0,
  "metadata": {
    "colab": {
      "name": "youtuve_adview_predication.ipynb",
      "provenance": [],
      "collapsed_sections": []
    },
    "kernelspec": {
      "name": "python3",
      "display_name": "Python 3"
    },
    "language_info": {
      "name": "python"
    }
  },
  "cells": [
    {
      "cell_type": "code",
      "metadata": {
        "id": "JVNE9RucbiJk"
      },
      "source": [
        "import numpy as np\n",
        "import pandas as pd\n",
        "import matplotlib.cm as cm\n",
        "import matplotlib.pyplot as plt\n",
        "\n",
        "# Importing data\n",
        "path = \"/content/drive/MyDrive/ml assignment/train.csv\"\n",
        "data_train = pd.read_csv(path)"
      ],
      "execution_count": 6,
      "outputs": []
    },
    {
      "cell_type": "code",
      "metadata": {
        "colab": {
          "base_uri": "https://localhost:8080/",
          "height": 204
        },
        "id": "vW2K0CiDfNgu",
        "outputId": "0c2c2ac5-7457-46e6-d770-d0b92dfd14b7"
      },
      "source": [
        "data_train.head()"
      ],
      "execution_count": 7,
      "outputs": [
        {
          "output_type": "execute_result",
          "data": {
            "text/html": [
              "<div>\n",
              "<style scoped>\n",
              "    .dataframe tbody tr th:only-of-type {\n",
              "        vertical-align: middle;\n",
              "    }\n",
              "\n",
              "    .dataframe tbody tr th {\n",
              "        vertical-align: top;\n",
              "    }\n",
              "\n",
              "    .dataframe thead th {\n",
              "        text-align: right;\n",
              "    }\n",
              "</style>\n",
              "<table border=\"1\" class=\"dataframe\">\n",
              "  <thead>\n",
              "    <tr style=\"text-align: right;\">\n",
              "      <th></th>\n",
              "      <th>vidid</th>\n",
              "      <th>adview</th>\n",
              "      <th>views</th>\n",
              "      <th>likes</th>\n",
              "      <th>dislikes</th>\n",
              "      <th>comment</th>\n",
              "      <th>published</th>\n",
              "      <th>duration</th>\n",
              "      <th>category</th>\n",
              "    </tr>\n",
              "  </thead>\n",
              "  <tbody>\n",
              "    <tr>\n",
              "      <th>0</th>\n",
              "      <td>VID_18655</td>\n",
              "      <td>40</td>\n",
              "      <td>1031602</td>\n",
              "      <td>8523</td>\n",
              "      <td>363</td>\n",
              "      <td>1095</td>\n",
              "      <td>2016-09-14</td>\n",
              "      <td>PT7M37S</td>\n",
              "      <td>F</td>\n",
              "    </tr>\n",
              "    <tr>\n",
              "      <th>1</th>\n",
              "      <td>VID_14135</td>\n",
              "      <td>2</td>\n",
              "      <td>1707</td>\n",
              "      <td>56</td>\n",
              "      <td>2</td>\n",
              "      <td>6</td>\n",
              "      <td>2016-10-01</td>\n",
              "      <td>PT9M30S</td>\n",
              "      <td>D</td>\n",
              "    </tr>\n",
              "    <tr>\n",
              "      <th>2</th>\n",
              "      <td>VID_2187</td>\n",
              "      <td>1</td>\n",
              "      <td>2023</td>\n",
              "      <td>25</td>\n",
              "      <td>0</td>\n",
              "      <td>2</td>\n",
              "      <td>2016-07-02</td>\n",
              "      <td>PT2M16S</td>\n",
              "      <td>C</td>\n",
              "    </tr>\n",
              "    <tr>\n",
              "      <th>3</th>\n",
              "      <td>VID_23096</td>\n",
              "      <td>6</td>\n",
              "      <td>620860</td>\n",
              "      <td>777</td>\n",
              "      <td>161</td>\n",
              "      <td>153</td>\n",
              "      <td>2016-07-27</td>\n",
              "      <td>PT4M22S</td>\n",
              "      <td>H</td>\n",
              "    </tr>\n",
              "    <tr>\n",
              "      <th>4</th>\n",
              "      <td>VID_10175</td>\n",
              "      <td>1</td>\n",
              "      <td>666</td>\n",
              "      <td>1</td>\n",
              "      <td>0</td>\n",
              "      <td>0</td>\n",
              "      <td>2016-06-29</td>\n",
              "      <td>PT31S</td>\n",
              "      <td>D</td>\n",
              "    </tr>\n",
              "  </tbody>\n",
              "</table>\n",
              "</div>"
            ],
            "text/plain": [
              "       vidid  adview    views likes  ... comment   published duration category\n",
              "0  VID_18655      40  1031602  8523  ...    1095  2016-09-14  PT7M37S        F\n",
              "1  VID_14135       2     1707    56  ...       6  2016-10-01  PT9M30S        D\n",
              "2   VID_2187       1     2023    25  ...       2  2016-07-02  PT2M16S        C\n",
              "3  VID_23096       6   620860   777  ...     153  2016-07-27  PT4M22S        H\n",
              "4  VID_10175       1      666     1  ...       0  2016-06-29    PT31S        D\n",
              "\n",
              "[5 rows x 9 columns]"
            ]
          },
          "metadata": {
            "tags": []
          },
          "execution_count": 7
        }
      ]
    },
    {
      "cell_type": "code",
      "metadata": {
        "colab": {
          "base_uri": "https://localhost:8080/"
        },
        "id": "P2dEtKTBfWT7",
        "outputId": "ead0c09c-d961-4afa-e0a2-c70d279c1259"
      },
      "source": [
        "data_train.shape"
      ],
      "execution_count": 8,
      "outputs": [
        {
          "output_type": "execute_result",
          "data": {
            "text/plain": [
              "(14999, 9)"
            ]
          },
          "metadata": {
            "tags": []
          },
          "execution_count": 8
        }
      ]
    },
    {
      "cell_type": "code",
      "metadata": {
        "colab": {
          "base_uri": "https://localhost:8080/",
          "height": 524
        },
        "id": "qjyVZfL7faQk",
        "outputId": "07916513-36df-4d1c-b8a3-5ebc761a573f"
      },
      "source": [
        "# Visualization\n",
        "# Individual Plots\n",
        "plt.hist(data_train[\"category\"])\n",
        "plt.show()\n",
        "plt.plot(data_train[\"adview\"])\n",
        "plt.show()"
      ],
      "execution_count": 9,
      "outputs": [
        {
          "output_type": "display_data",
          "data": {
            "image/png": "[encoded data removed]",
            "text/plain": [
              "<Figure size 432x288 with 1 Axes>"
            ]
          },
          "metadata": {
            "tags": [],
            "needs_background": "light"
          }
        },
        {
          "output_type": "display_data",
          "data": {
            "image/png": "[encoded data removed]",
            "text/plain": [
              "<Figure size 432x288 with 1 Axes>"
            ]
          },
          "metadata": {
            "tags": [],
            "needs_background": "light"
          }
        }
      ]
    },
    {
      "cell_type": "code",
      "metadata": {
        "id": "RLXOyZkcfflF"
      },
      "source": [
        "# Remove videos with adview greater than 2000000 as outlier\n",
        "data_train = data_train[data_train[\"adview\"] <2000000]"
      ],
      "execution_count": 11,
      "outputs": []
    },
    {
      "cell_type": "code",
      "metadata": {
        "colab": {
          "base_uri": "https://localhost:8080/",
          "height": 487
        },
        "id": "3Fr_qoUuffnt",
        "outputId": "c584d3aa-732e-4f2d-d820-a272ef84d1c4"
      },
      "source": [
        "# Heatmap\n",
        "import seaborn as sns\n",
        "f, ax = plt.subplots(figsize=(10, 8))\n",
        "corr = data_train.corr()\n",
        "sns.heatmap(corr, mask=np.zeros_like(corr, dtype=np.bool), cmap=sns.diverging_palette(220, 10, as_cmap=True),\n",
        "square=True, ax=ax,annot=True)\n",
        "plt.show()"
      ],
      "execution_count": 43,
      "outputs": [
        {
          "output_type": "display_data",
          "data": {
            "image/png": "[encoded data removed]",
            "text/plain": [
              "<Figure size 720x576 with 2 Axes>"
            ]
          },
          "metadata": {
            "tags": [],
            "needs_background": "light"
          }
        }
      ]
    },
    {
      "cell_type": "code",
      "metadata": {
        "id": "2FuoqHSsfz53"
      },
      "source": [
        "# Removing character \"F\" present in data\n",
        "data_train=data_train[data_train.views!='F']\n",
        "data_train=data_train[data_train.likes!='F']\n",
        "data_train=data_train[data_train.dislikes!='F']\n",
        "data_train=data_train[data_train.comment!='F']"
      ],
      "execution_count": 15,
      "outputs": []
    },
    {
      "cell_type": "code",
      "metadata": {
        "colab": {
          "base_uri": "https://localhost:8080/",
          "height": 204
        },
        "id": "URyEWiVtf50M",
        "outputId": "3f132ddd-7785-4dea-e2a6-f7e0a92eb090"
      },
      "source": [
        "data_train.head()"
      ],
      "execution_count": 16,
      "outputs": [
        {
          "output_type": "execute_result",
          "data": {
            "text/html": [
              "<div>\n",
              "<style scoped>\n",
              "    .dataframe tbody tr th:only-of-type {\n",
              "        vertical-align: middle;\n",
              "    }\n",
              "\n",
              "    .dataframe tbody tr th {\n",
              "        vertical-align: top;\n",
              "    }\n",
              "\n",
              "    .dataframe thead th {\n",
              "        text-align: right;\n",
              "    }\n",
              "</style>\n",
              "<table border=\"1\" class=\"dataframe\">\n",
              "  <thead>\n",
              "    <tr style=\"text-align: right;\">\n",
              "      <th></th>\n",
              "      <th>vidid</th>\n",
              "      <th>adview</th>\n",
              "      <th>views</th>\n",
              "      <th>likes</th>\n",
              "      <th>dislikes</th>\n",
              "      <th>comment</th>\n",
              "      <th>published</th>\n",
              "      <th>duration</th>\n",
              "      <th>category</th>\n",
              "    </tr>\n",
              "  </thead>\n",
              "  <tbody>\n",
              "    <tr>\n",
              "      <th>0</th>\n",
              "      <td>VID_18655</td>\n",
              "      <td>40</td>\n",
              "      <td>1031602</td>\n",
              "      <td>8523</td>\n",
              "      <td>363</td>\n",
              "      <td>1095</td>\n",
              "      <td>2016-09-14</td>\n",
              "      <td>PT7M37S</td>\n",
              "      <td>F</td>\n",
              "    </tr>\n",
              "    <tr>\n",
              "      <th>1</th>\n",
              "      <td>VID_14135</td>\n",
              "      <td>2</td>\n",
              "      <td>1707</td>\n",
              "      <td>56</td>\n",
              "      <td>2</td>\n",
              "      <td>6</td>\n",
              "      <td>2016-10-01</td>\n",
              "      <td>PT9M30S</td>\n",
              "      <td>D</td>\n",
              "    </tr>\n",
              "    <tr>\n",
              "      <th>2</th>\n",
              "      <td>VID_2187</td>\n",
              "      <td>1</td>\n",
              "      <td>2023</td>\n",
              "      <td>25</td>\n",
              "      <td>0</td>\n",
              "      <td>2</td>\n",
              "      <td>2016-07-02</td>\n",
              "      <td>PT2M16S</td>\n",
              "      <td>C</td>\n",
              "    </tr>\n",
              "    <tr>\n",
              "      <th>3</th>\n",
              "      <td>VID_23096</td>\n",
              "      <td>6</td>\n",
              "      <td>620860</td>\n",
              "      <td>777</td>\n",
              "      <td>161</td>\n",
              "      <td>153</td>\n",
              "      <td>2016-07-27</td>\n",
              "      <td>PT4M22S</td>\n",
              "      <td>H</td>\n",
              "    </tr>\n",
              "    <tr>\n",
              "      <th>4</th>\n",
              "      <td>VID_10175</td>\n",
              "      <td>1</td>\n",
              "      <td>666</td>\n",
              "      <td>1</td>\n",
              "      <td>0</td>\n",
              "      <td>0</td>\n",
              "      <td>2016-06-29</td>\n",
              "      <td>PT31S</td>\n",
              "      <td>D</td>\n",
              "    </tr>\n",
              "  </tbody>\n",
              "</table>\n",
              "</div>"
            ],
            "text/plain": [
              "       vidid  adview    views likes  ... comment   published duration category\n",
              "0  VID_18655      40  1031602  8523  ...    1095  2016-09-14  PT7M37S        F\n",
              "1  VID_14135       2     1707    56  ...       6  2016-10-01  PT9M30S        D\n",
              "2   VID_2187       1     2023    25  ...       2  2016-07-02  PT2M16S        C\n",
              "3  VID_23096       6   620860   777  ...     153  2016-07-27  PT4M22S        H\n",
              "4  VID_10175       1      666     1  ...       0  2016-06-29    PT31S        D\n",
              "\n",
              "[5 rows x 9 columns]"
            ]
          },
          "metadata": {
            "tags": []
          },
          "execution_count": 16
        }
      ]
    },
    {
      "cell_type": "code",
      "metadata": {
        "colab": {
          "base_uri": "https://localhost:8080/",
          "height": 204
        },
        "id": "0jZoNqv-fz9f",
        "outputId": "0aa1db4b-9219-4fe3-d1ba-f7e35f79ae3b"
      },
      "source": [
        "# Assigning each category a number for Category feature\n",
        "category={'A': 1,'B':2,'C':3,'D':4,'E':5,'F':6,'G':7,'H':8}\n",
        "data_train[\"category\"]=data_train[\"category\"].map(category)\n",
        "data_train.head()"
      ],
      "execution_count": 17,
      "outputs": [
        {
          "output_type": "execute_result",
          "data": {
            "text/html": [
              "<div>\n",
              "<style scoped>\n",
              "    .dataframe tbody tr th:only-of-type {\n",
              "        vertical-align: middle;\n",
              "    }\n",
              "\n",
              "    .dataframe tbody tr th {\n",
              "        vertical-align: top;\n",
              "    }\n",
              "\n",
              "    .dataframe thead th {\n",
              "        text-align: right;\n",
              "    }\n",
              "</style>\n",
              "<table border=\"1\" class=\"dataframe\">\n",
              "  <thead>\n",
              "    <tr style=\"text-align: right;\">\n",
              "      <th></th>\n",
              "      <th>vidid</th>\n",
              "      <th>adview</th>\n",
              "      <th>views</th>\n",
              "      <th>likes</th>\n",
              "      <th>dislikes</th>\n",
              "      <th>comment</th>\n",
              "      <th>published</th>\n",
              "      <th>duration</th>\n",
              "      <th>category</th>\n",
              "    </tr>\n",
              "  </thead>\n",
              "  <tbody>\n",
              "    <tr>\n",
              "      <th>0</th>\n",
              "      <td>VID_18655</td>\n",
              "      <td>40</td>\n",
              "      <td>1031602</td>\n",
              "      <td>8523</td>\n",
              "      <td>363</td>\n",
              "      <td>1095</td>\n",
              "      <td>2016-09-14</td>\n",
              "      <td>PT7M37S</td>\n",
              "      <td>6</td>\n",
              "    </tr>\n",
              "    <tr>\n",
              "      <th>1</th>\n",
              "      <td>VID_14135</td>\n",
              "      <td>2</td>\n",
              "      <td>1707</td>\n",
              "      <td>56</td>\n",
              "      <td>2</td>\n",
              "      <td>6</td>\n",
              "      <td>2016-10-01</td>\n",
              "      <td>PT9M30S</td>\n",
              "      <td>4</td>\n",
              "    </tr>\n",
              "    <tr>\n",
              "      <th>2</th>\n",
              "      <td>VID_2187</td>\n",
              "      <td>1</td>\n",
              "      <td>2023</td>\n",
              "      <td>25</td>\n",
              "      <td>0</td>\n",
              "      <td>2</td>\n",
              "      <td>2016-07-02</td>\n",
              "      <td>PT2M16S</td>\n",
              "      <td>3</td>\n",
              "    </tr>\n",
              "    <tr>\n",
              "      <th>3</th>\n",
              "      <td>VID_23096</td>\n",
              "      <td>6</td>\n",
              "      <td>620860</td>\n",
              "      <td>777</td>\n",
              "      <td>161</td>\n",
              "      <td>153</td>\n",
              "      <td>2016-07-27</td>\n",
              "      <td>PT4M22S</td>\n",
              "      <td>8</td>\n",
              "    </tr>\n",
              "    <tr>\n",
              "      <th>4</th>\n",
              "      <td>VID_10175</td>\n",
              "      <td>1</td>\n",
              "      <td>666</td>\n",
              "      <td>1</td>\n",
              "      <td>0</td>\n",
              "      <td>0</td>\n",
              "      <td>2016-06-29</td>\n",
              "      <td>PT31S</td>\n",
              "      <td>4</td>\n",
              "    </tr>\n",
              "  </tbody>\n",
              "</table>\n",
              "</div>"
            ],
            "text/plain": [
              "       vidid  adview    views likes  ... comment   published duration category\n",
              "0  VID_18655      40  1031602  8523  ...    1095  2016-09-14  PT7M37S        6\n",
              "1  VID_14135       2     1707    56  ...       6  2016-10-01  PT9M30S        4\n",
              "2   VID_2187       1     2023    25  ...       2  2016-07-02  PT2M16S        3\n",
              "3  VID_23096       6   620860   777  ...     153  2016-07-27  PT4M22S        8\n",
              "4  VID_10175       1      666     1  ...       0  2016-06-29    PT31S        4\n",
              "\n",
              "[5 rows x 9 columns]"
            ]
          },
          "metadata": {
            "tags": []
          },
          "execution_count": 17
        }
      ]
    },
    {
      "cell_type": "code",
      "metadata": {
        "colab": {
          "base_uri": "https://localhost:8080/",
          "height": 204
        },
        "id": "bN_VS7b6gDBG",
        "outputId": "c2c1b069-c760-4220-e080-85ac86626f53"
      },
      "source": [
        "# Convert values to integers for views, likes, comments, dislikes and adview\n",
        "data_train[\"views\"] = pd.to_numeric(data_train[\"views\"])\n",
        "data_train[\"comment\"] = pd.to_numeric(data_train[\"comment\"])\n",
        "data_train[\"likes\"] = pd.to_numeric(data_train[\"likes\"])\n",
        "data_train[\"dislikes\"] = pd.to_numeric(data_train[\"dislikes\"])\n",
        "data_train[\"adview\"]=pd.to_numeric(data_train[\"adview\"])\n",
        "column_vidid=data_train['vidid']\n",
        "\n",
        "# Endoding features like Category, Duration, Vidid\n",
        "from sklearn.preprocessing import LabelEncoder\n",
        "data_train['duration']=LabelEncoder().fit_transform(data_train['duration'])\n",
        "data_train['vidid']=LabelEncoder().fit_transform(data_train['vidid'])\n",
        "data_train['published']=LabelEncoder().fit_transform(data_train['published'])\n",
        "data_train.head()\n",
        "\n",
        "# Convert Time_in_sec for duration\n",
        "import datetime\n",
        "import time\n",
        "def checki(x):\n",
        "  y = x[2:]\n",
        "  h = ''\n",
        "  m = ''\n",
        "  s = ''\n",
        "  mm = ''\n",
        "  P = ['H','M','S']\n",
        "  for i in y:\n",
        "    if i not in P:\n",
        "      mm+=i\n",
        "    else:\n",
        "      if(i==\"H\"):\n",
        "        h = mm\n",
        "        mm = ''\n",
        "      elif(i == \"M\"):\n",
        "        m = mm\n",
        "        mm = ''\n",
        "      else:\n",
        "        s = mm\n",
        "        mm = ''\n",
        "  if(h==''):\n",
        "    h = '00'\n",
        "  if(m == ''):\n",
        "    m = '00'\n",
        "  if(s==''):\n",
        "    s='00'\n",
        "  bp = h+':'+m+':'+s\n",
        "  return bp\n",
        "\n",
        "train=pd.read_csv(\"/content/drive/MyDrive/ml assignment/train.csv\")\n",
        "mp = pd.read_csv(path)[\"duration\"]\n",
        "time = mp.apply(checki)\n",
        "\n",
        "def func_sec(time_string):\n",
        "  h, m, s = time_string.split(':')\n",
        "  return int(h) * 3600 + int(m) * 60 + int(s)\n",
        "\n",
        "time1=time.apply(func_sec)\n",
        "\n",
        "data_train[\"duration\"]=time1\n",
        "data_train.head()"
      ],
      "execution_count": 19,
      "outputs": [
        {
          "output_type": "execute_result",
          "data": {
            "text/html": [
              "<div>\n",
              "<style scoped>\n",
              "    .dataframe tbody tr th:only-of-type {\n",
              "        vertical-align: middle;\n",
              "    }\n",
              "\n",
              "    .dataframe tbody tr th {\n",
              "        vertical-align: top;\n",
              "    }\n",
              "\n",
              "    .dataframe thead th {\n",
              "        text-align: right;\n",
              "    }\n",
              "</style>\n",
              "<table border=\"1\" class=\"dataframe\">\n",
              "  <thead>\n",
              "    <tr style=\"text-align: right;\">\n",
              "      <th></th>\n",
              "      <th>vidid</th>\n",
              "      <th>adview</th>\n",
              "      <th>views</th>\n",
              "      <th>likes</th>\n",
              "      <th>dislikes</th>\n",
              "      <th>comment</th>\n",
              "      <th>published</th>\n",
              "      <th>duration</th>\n",
              "      <th>category</th>\n",
              "    </tr>\n",
              "  </thead>\n",
              "  <tbody>\n",
              "    <tr>\n",
              "      <th>0</th>\n",
              "      <td>5912</td>\n",
              "      <td>40</td>\n",
              "      <td>1031602</td>\n",
              "      <td>8523</td>\n",
              "      <td>363</td>\n",
              "      <td>1095</td>\n",
              "      <td>2168</td>\n",
              "      <td>457</td>\n",
              "      <td>6</td>\n",
              "    </tr>\n",
              "    <tr>\n",
              "      <th>1</th>\n",
              "      <td>2741</td>\n",
              "      <td>2</td>\n",
              "      <td>1707</td>\n",
              "      <td>56</td>\n",
              "      <td>2</td>\n",
              "      <td>6</td>\n",
              "      <td>2185</td>\n",
              "      <td>570</td>\n",
              "      <td>4</td>\n",
              "    </tr>\n",
              "    <tr>\n",
              "      <th>2</th>\n",
              "      <td>8138</td>\n",
              "      <td>1</td>\n",
              "      <td>2023</td>\n",
              "      <td>25</td>\n",
              "      <td>0</td>\n",
              "      <td>2</td>\n",
              "      <td>2094</td>\n",
              "      <td>136</td>\n",
              "      <td>3</td>\n",
              "    </tr>\n",
              "    <tr>\n",
              "      <th>3</th>\n",
              "      <td>9004</td>\n",
              "      <td>6</td>\n",
              "      <td>620860</td>\n",
              "      <td>777</td>\n",
              "      <td>161</td>\n",
              "      <td>153</td>\n",
              "      <td>2119</td>\n",
              "      <td>262</td>\n",
              "      <td>8</td>\n",
              "    </tr>\n",
              "    <tr>\n",
              "      <th>4</th>\n",
              "      <td>122</td>\n",
              "      <td>1</td>\n",
              "      <td>666</td>\n",
              "      <td>1</td>\n",
              "      <td>0</td>\n",
              "      <td>0</td>\n",
              "      <td>2091</td>\n",
              "      <td>31</td>\n",
              "      <td>4</td>\n",
              "    </tr>\n",
              "  </tbody>\n",
              "</table>\n",
              "</div>"
            ],
            "text/plain": [
              "   vidid  adview    views  likes  ...  comment  published  duration  category\n",
              "0   5912      40  1031602   8523  ...     1095       2168       457         6\n",
              "1   2741       2     1707     56  ...        6       2185       570         4\n",
              "2   8138       1     2023     25  ...        2       2094       136         3\n",
              "3   9004       6   620860    777  ...      153       2119       262         8\n",
              "4    122       1      666      1  ...        0       2091        31         4\n",
              "\n",
              "[5 rows x 9 columns]"
            ]
          },
          "metadata": {
            "tags": []
          },
          "execution_count": 19
        }
      ]
    },
    {
      "cell_type": "code",
      "metadata": {
        "colab": {
          "base_uri": "https://localhost:8080/"
        },
        "id": "AcbbVkSsgZS_",
        "outputId": "dbfdc9ad-fb34-439c-c926-fe1cd28aff44"
      },
      "source": [
        "# Split Data\n",
        "Y_train = pd.DataFrame(data = data_train.iloc[:, 1].values, columns = ['target'])\n",
        "data_train=data_train.drop([\"adview\"],axis=1)\n",
        "data_train=data_train.drop([\"vidid\"],axis=1)\n",
        "data_train.head()\n",
        "\n",
        "from sklearn.model_selection import train_test_split\n",
        "X_train, X_test, y_train, y_test = train_test_split(data_train, Y_train, test_size=0.2, random_state=42)\n",
        "\n",
        "X_train.shape\n",
        "\n",
        "# Normalise Data\n",
        "from sklearn.preprocessing import MinMaxScaler\n",
        "scaler = MinMaxScaler()\n",
        "X_train=scaler.fit_transform(X_train)\n",
        "X_test=scaler.fit_transform(X_test)\n",
        "\n",
        "X_train.mean()"
      ],
      "execution_count": 20,
      "outputs": [
        {
          "output_type": "execute_result",
          "data": {
            "text/plain": [
              "0.1739096800320488"
            ]
          },
          "metadata": {
            "tags": []
          },
          "execution_count": 20
        }
      ]
    },
    {
      "cell_type": "code",
      "metadata": {
        "colab": {
          "base_uri": "https://localhost:8080/"
        },
        "id": "M9VEwfBQgfpx",
        "outputId": "bc100de9-98a6-4b2d-ccbb-bb63eaf65064"
      },
      "source": [
        "# Evaluation Metrics\n",
        "from sklearn import metrics\n",
        "def print_error(X_test, y_test, model_name):\n",
        "  prediction = model_name.predict(X_test)\n",
        "  print('Mean Absolute Error:', metrics.mean_absolute_error(y_test, prediction))\n",
        "  print('Mean Squared Error:', metrics.mean_squared_error(y_test, prediction))\n",
        "  print('Root Mean Squared Error:', np.sqrt(metrics.mean_squared_error(y_test, prediction)))\n",
        "\n",
        "# Linear Regression\n",
        "from sklearn import linear_model\n",
        "linear_regression = linear_model.LinearRegression()\n",
        "linear_regression.fit(X_train, y_train)\n",
        "print_error(X_test,y_test, linear_regression)\n",
        "\n",
        "# Support Vector Regressor\n",
        "from sklearn.svm import SVR\n",
        "supportvector_regressor = SVR()\n",
        "supportvector_regressor.fit(X_train,y_train)\n",
        "print_error(X_test,y_test, linear_regression)"
      ],
      "execution_count": 21,
      "outputs": [
        {
          "output_type": "stream",
          "text": [
            "Mean Absolute Error: 3707.378005824532\n",
            "Mean Squared Error: 835663131.1210337\n",
            "Root Mean Squared Error: 28907.83857573986\n"
          ],
          "name": "stdout"
        },
        {
          "output_type": "stream",
          "text": [
            "/usr/local/lib/python3.7/dist-packages/sklearn/utils/validation.py:760: DataConversionWarning: A column-vector y was passed when a 1d array was expected. Please change the shape of y to (n_samples, ), for example using ravel().\n",
            "  y = column_or_1d(y, warn=True)\n"
          ],
          "name": "stderr"
        },
        {
          "output_type": "stream",
          "text": [
            "Mean Absolute Error: 3707.378005824532\n",
            "Mean Squared Error: 835663131.1210337\n",
            "Root Mean Squared Error: 28907.83857573986\n"
          ],
          "name": "stdout"
        }
      ]
    },
    {
      "cell_type": "code",
      "metadata": {
        "colab": {
          "base_uri": "https://localhost:8080/"
        },
        "id": "McV2SgNOgto9",
        "outputId": "05a1bd01-64b1-4e67-fa3c-80e64129ab5f"
      },
      "source": [
        "# Decision Tree Regressor\n",
        "from sklearn.tree import DecisionTreeRegressor\n",
        "decision_tree = DecisionTreeRegressor()\n",
        "decision_tree.fit(X_train, y_train)\n",
        "print_error(X_test,y_test, decision_tree)\n",
        "\n",
        "# Random Forest Regressor\n",
        "from sklearn.ensemble import RandomForestRegressor\n",
        "n_estimators = 200\n",
        "max_depth = 25\n",
        "min_samples_split=15\n",
        "min_samples_leaf=2\n",
        "random_forest = RandomForestRegressor(n_estimators = n_estimators, max_depth = max_depth, min_samples_split=min_samples_split)\n",
        "random_forest.fit(X_train,y_train)\n",
        "print_error(X_test,y_test, random_forest)"
      ],
      "execution_count": 22,
      "outputs": [
        {
          "output_type": "stream",
          "text": [
            "Mean Absolute Error: 2720.6383196721313\n",
            "Mean Squared Error: 897823685.2318989\n",
            "Root Mean Squared Error: 29963.70613311876\n"
          ],
          "name": "stdout"
        },
        {
          "output_type": "stream",
          "text": [
            "/usr/local/lib/python3.7/dist-packages/ipykernel_launcher.py:14: DataConversionWarning: A column-vector y was passed when a 1d array was expected. Please change the shape of y to (n_samples,), for example using ravel().\n",
            "  \n"
          ],
          "name": "stderr"
        },
        {
          "output_type": "stream",
          "text": [
            "Mean Absolute Error: 3275.4052689391574\n",
            "Mean Squared Error: 611619512.4830776\n",
            "Root Mean Squared Error: 24730.942409926025\n"
          ],
          "name": "stdout"
        }
      ]
    },
    {
      "cell_type": "code",
      "metadata": {
        "colab": {
          "base_uri": "https://localhost:8080/"
        },
        "id": "4Emouazog3AP",
        "outputId": "776fc04e-ea1b-4478-ea78-fc7efe668d75"
      },
      "source": [
        "# Artificial Neural Network\n",
        "import keras\n",
        "from keras.layers import Dense\n",
        "ann = keras.models.Sequential([\n",
        "                                Dense(6, activation=\"relu\",\n",
        "                                input_shape=X_train.shape[1:]),\n",
        "                                Dense(6,activation=\"relu\"),\n",
        "                                Dense(1)\n",
        "                                ])\n",
        "\n",
        "optimizer=keras.optimizers.Adam()\n",
        "loss=keras.losses.mean_squared_error\n",
        "ann.compile(optimizer=optimizer,loss=loss,metrics=[\"mean_squared_error\"])\n",
        "\n",
        "history=ann.fit(X_train,y_train,epochs=100)\n",
        "\n",
        "ann.summary()\n",
        "\n",
        "print_error(X_test,y_test,ann)"
      ],
      "execution_count": 23,
      "outputs": [
        {
          "output_type": "stream",
          "text": [
            "Epoch 1/100\n",
            "366/366 [==============================] - 13s 1ms/step - loss: 1128950632.1326 - mean_squared_error: 1128950632.1326\n",
            "Epoch 2/100\n",
            "366/366 [==============================] - 0s 1ms/step - loss: 1417305847.2262 - mean_squared_error: 1417305847.2262\n",
            "Epoch 3/100\n",
            "366/366 [==============================] - 0s 1ms/step - loss: 842846212.2854 - mean_squared_error: 842846212.2854\n",
            "Epoch 4/100\n",
            "366/366 [==============================] - 0s 1ms/step - loss: 730875270.3466 - mean_squared_error: 730875270.3466\n",
            "Epoch 5/100\n",
            "366/366 [==============================] - 0s 1ms/step - loss: 653721446.0026 - mean_squared_error: 653721446.0026\n",
            "Epoch 6/100\n",
            "366/366 [==============================] - 0s 1ms/step - loss: 1093820612.4251 - mean_squared_error: 1093820612.4251\n",
            "Epoch 7/100\n",
            "366/366 [==============================] - 0s 1ms/step - loss: 887629707.4302 - mean_squared_error: 887629707.4302\n",
            "Epoch 8/100\n",
            "366/366 [==============================] - 0s 1ms/step - loss: 734273068.9700 - mean_squared_error: 734273068.9700\n",
            "Epoch 9/100\n",
            "366/366 [==============================] - 0s 1ms/step - loss: 714143013.0388 - mean_squared_error: 714143013.0388\n",
            "Epoch 10/100\n",
            "366/366 [==============================] - 0s 1ms/step - loss: 448737688.9183 - mean_squared_error: 448737688.9183\n",
            "Epoch 11/100\n",
            "366/366 [==============================] - 0s 1ms/step - loss: 1072931513.4210 - mean_squared_error: 1072931513.4210\n",
            "Epoch 12/100\n",
            "366/366 [==============================] - 0s 1ms/step - loss: 543481855.7463 - mean_squared_error: 543481855.7463\n",
            "Epoch 13/100\n",
            "366/366 [==============================] - 0s 1ms/step - loss: 789870603.5247 - mean_squared_error: 789870603.5247\n",
            "Epoch 14/100\n",
            "366/366 [==============================] - 0s 1ms/step - loss: 481311266.7030 - mean_squared_error: 481311266.7030\n",
            "Epoch 15/100\n",
            "366/366 [==============================] - 0s 1ms/step - loss: 425841793.3896 - mean_squared_error: 425841793.3896\n",
            "Epoch 16/100\n",
            "366/366 [==============================] - 0s 1ms/step - loss: 1995491071.1281 - mean_squared_error: 1995491071.1281\n",
            "Epoch 17/100\n",
            "366/366 [==============================] - 0s 1ms/step - loss: 1349188199.9128 - mean_squared_error: 1349188199.9128\n",
            "Epoch 18/100\n",
            "366/366 [==============================] - 0s 1ms/step - loss: 573860498.7003 - mean_squared_error: 573860498.7003\n",
            "Epoch 19/100\n",
            "366/366 [==============================] - 0s 1ms/step - loss: 634899148.8237 - mean_squared_error: 634899148.8237\n",
            "Epoch 20/100\n",
            "366/366 [==============================] - 0s 1ms/step - loss: 768701370.5770 - mean_squared_error: 768701370.5770\n",
            "Epoch 21/100\n",
            "366/366 [==============================] - 0s 1ms/step - loss: 449352567.7786 - mean_squared_error: 449352567.7786\n",
            "Epoch 22/100\n",
            "366/366 [==============================] - 0s 1ms/step - loss: 574742429.7330 - mean_squared_error: 574742429.7330\n",
            "Epoch 23/100\n",
            "366/366 [==============================] - 0s 1ms/step - loss: 867196678.4959 - mean_squared_error: 867196678.4959\n",
            "Epoch 24/100\n",
            "366/366 [==============================] - 0s 1ms/step - loss: 390161110.6734 - mean_squared_error: 390161110.6734\n",
            "Epoch 25/100\n",
            "366/366 [==============================] - 0s 1ms/step - loss: 642068056.7089 - mean_squared_error: 642068056.7089\n",
            "Epoch 26/100\n",
            "366/366 [==============================] - 0s 1ms/step - loss: 1273586686.6049 - mean_squared_error: 1273586686.6049\n",
            "Epoch 27/100\n",
            "366/366 [==============================] - 0s 1ms/step - loss: 898773565.2834 - mean_squared_error: 898773565.2834\n",
            "Epoch 28/100\n",
            "366/366 [==============================] - 0s 1ms/step - loss: 738787236.0596 - mean_squared_error: 738787236.0596\n",
            "Epoch 29/100\n",
            "366/366 [==============================] - 0s 1ms/step - loss: 305308535.6621 - mean_squared_error: 305308535.6621\n",
            "Epoch 30/100\n",
            "366/366 [==============================] - 0s 1ms/step - loss: 559990815.2956 - mean_squared_error: 559990815.2956\n",
            "Epoch 31/100\n",
            "366/366 [==============================] - 0s 1ms/step - loss: 1309658570.6376 - mean_squared_error: 1309658570.6376\n",
            "Epoch 32/100\n",
            "366/366 [==============================] - 0s 1ms/step - loss: 1433689421.6458 - mean_squared_error: 1433689421.6458\n",
            "Epoch 33/100\n",
            "366/366 [==============================] - 0s 1ms/step - loss: 992012123.6260 - mean_squared_error: 992012123.6260\n",
            "Epoch 34/100\n",
            "366/366 [==============================] - 0s 1ms/step - loss: 676367907.7551 - mean_squared_error: 676367907.7551\n",
            "Epoch 35/100\n",
            "366/366 [==============================] - 0s 1ms/step - loss: 836291626.2180 - mean_squared_error: 836291626.2180\n",
            "Epoch 36/100\n",
            "366/366 [==============================] - 0s 1ms/step - loss: 779524586.4632 - mean_squared_error: 779524586.4632\n",
            "Epoch 37/100\n",
            "366/366 [==============================] - 0s 1ms/step - loss: 805859780.0429 - mean_squared_error: 805859780.0429\n",
            "Epoch 38/100\n",
            "366/366 [==============================] - 0s 1ms/step - loss: 298776247.5967 - mean_squared_error: 298776247.5967\n",
            "Epoch 39/100\n",
            "366/366 [==============================] - 0s 1ms/step - loss: 436235444.4475 - mean_squared_error: 436235444.4475\n",
            "Epoch 40/100\n",
            "366/366 [==============================] - 0s 1ms/step - loss: 351565688.7391 - mean_squared_error: 351565688.7391\n",
            "Epoch 41/100\n",
            "366/366 [==============================] - 0s 1ms/step - loss: 658135601.2663 - mean_squared_error: 658135601.2663\n",
            "Epoch 42/100\n",
            "366/366 [==============================] - 0s 1ms/step - loss: 975504964.8532 - mean_squared_error: 975504964.8532\n",
            "Epoch 43/100\n",
            "366/366 [==============================] - 0s 1ms/step - loss: 677801244.4240 - mean_squared_error: 677801244.4240\n",
            "Epoch 44/100\n",
            "366/366 [==============================] - 0s 1ms/step - loss: 863064943.3624 - mean_squared_error: 863064943.3624\n",
            "Epoch 45/100\n",
            "366/366 [==============================] - 0s 1ms/step - loss: 813846547.7554 - mean_squared_error: 813846547.7554\n",
            "Epoch 46/100\n",
            "366/366 [==============================] - 0s 1ms/step - loss: 481295468.5460 - mean_squared_error: 481295468.5460\n",
            "Epoch 47/100\n",
            "366/366 [==============================] - 0s 1ms/step - loss: 657745505.7367 - mean_squared_error: 657745505.7367\n",
            "Epoch 48/100\n",
            "366/366 [==============================] - 0s 1ms/step - loss: 362033876.3420 - mean_squared_error: 362033876.3420\n",
            "Epoch 49/100\n",
            "366/366 [==============================] - 0s 1ms/step - loss: 375157961.7112 - mean_squared_error: 375157961.7112\n",
            "Epoch 50/100\n",
            "366/366 [==============================] - 0s 1ms/step - loss: 960686161.0545 - mean_squared_error: 960686161.0545\n",
            "Epoch 51/100\n",
            "366/366 [==============================] - 0s 1ms/step - loss: 648922716.7738 - mean_squared_error: 648922716.7738\n",
            "Epoch 52/100\n",
            "366/366 [==============================] - 0s 1ms/step - loss: 509470664.4571 - mean_squared_error: 509470664.4571\n",
            "Epoch 53/100\n",
            "366/366 [==============================] - 0s 1ms/step - loss: 826032763.7527 - mean_squared_error: 826032763.7527\n",
            "Epoch 54/100\n",
            "366/366 [==============================] - 0s 1ms/step - loss: 1179486483.4537 - mean_squared_error: 1179486483.4537\n",
            "Epoch 55/100\n",
            "366/366 [==============================] - 0s 1ms/step - loss: 1268057262.9516 - mean_squared_error: 1268057262.9516\n",
            "Epoch 56/100\n",
            "366/366 [==============================] - 0s 1ms/step - loss: 278308679.4462 - mean_squared_error: 278308679.4462\n",
            "Epoch 57/100\n",
            "366/366 [==============================] - 0s 1ms/step - loss: 752844946.1662 - mean_squared_error: 752844946.1662\n",
            "Epoch 58/100\n",
            "366/366 [==============================] - 0s 1ms/step - loss: 712879578.9026 - mean_squared_error: 712879578.9026\n",
            "Epoch 59/100\n",
            "366/366 [==============================] - 0s 1ms/step - loss: 710409607.5450 - mean_squared_error: 710409607.5450\n",
            "Epoch 60/100\n",
            "366/366 [==============================] - 0s 1ms/step - loss: 338059852.7057 - mean_squared_error: 338059852.7057\n",
            "Epoch 61/100\n",
            "366/366 [==============================] - 0s 1ms/step - loss: 1181400826.3079 - mean_squared_error: 1181400826.3079\n",
            "Epoch 62/100\n",
            "366/366 [==============================] - 0s 1ms/step - loss: 566015994.2057 - mean_squared_error: 566015994.2057\n",
            "Epoch 63/100\n",
            "366/366 [==============================] - 0s 1ms/step - loss: 945231341.4877 - mean_squared_error: 945231341.4877\n",
            "Epoch 64/100\n",
            "366/366 [==============================] - 0s 1ms/step - loss: 397278889.6267 - mean_squared_error: 397278889.6267\n",
            "Epoch 65/100\n",
            "366/366 [==============================] - 0s 1ms/step - loss: 719341478.0341 - mean_squared_error: 719341478.0341\n",
            "Epoch 66/100\n",
            "366/366 [==============================] - 0s 1ms/step - loss: 1017687959.0191 - mean_squared_error: 1017687959.0191\n",
            "Epoch 67/100\n",
            "366/366 [==============================] - 0s 1ms/step - loss: 495776523.3460 - mean_squared_error: 495776523.3460\n",
            "Epoch 68/100\n",
            "366/366 [==============================] - 0s 1ms/step - loss: 670457576.2841 - mean_squared_error: 670457576.2841\n",
            "Epoch 69/100\n",
            "366/366 [==============================] - 0s 1ms/step - loss: 561121179.6165 - mean_squared_error: 561121179.6165\n",
            "Epoch 70/100\n",
            "366/366 [==============================] - 0s 1ms/step - loss: 714965514.7411 - mean_squared_error: 714965514.7411\n",
            "Epoch 71/100\n",
            "366/366 [==============================] - 0s 1ms/step - loss: 903203041.5552 - mean_squared_error: 903203041.5552\n",
            "Epoch 72/100\n",
            "366/366 [==============================] - 0s 1ms/step - loss: 1712602082.7030 - mean_squared_error: 1712602082.7030\n",
            "Epoch 73/100\n",
            "366/366 [==============================] - 0s 1ms/step - loss: 949850495.7568 - mean_squared_error: 949850495.7568\n",
            "Epoch 74/100\n",
            "366/366 [==============================] - 0s 1ms/step - loss: 562393890.3277 - mean_squared_error: 562393890.3277\n",
            "Epoch 75/100\n",
            "366/366 [==============================] - 0s 1ms/step - loss: 1143115360.5538 - mean_squared_error: 1143115360.5538\n",
            "Epoch 76/100\n",
            "366/366 [==============================] - 0s 1ms/step - loss: 625904481.6131 - mean_squared_error: 625904481.6131\n",
            "Epoch 77/100\n",
            "366/366 [==============================] - 0s 1ms/step - loss: 612414310.5736 - mean_squared_error: 612414310.5736\n",
            "Epoch 78/100\n",
            "366/366 [==============================] - 0s 1ms/step - loss: 1310049877.2044 - mean_squared_error: 1310049877.2044\n",
            "Epoch 79/100\n",
            "366/366 [==============================] - 0s 1ms/step - loss: 1740571347.9762 - mean_squared_error: 1740571347.9762\n",
            "Epoch 80/100\n",
            "366/366 [==============================] - 0s 1ms/step - loss: 885847462.9646 - mean_squared_error: 885847462.9646\n",
            "Epoch 81/100\n",
            "366/366 [==============================] - 0s 1ms/step - loss: 1280560849.3678 - mean_squared_error: 1280560849.3678\n",
            "Epoch 82/100\n",
            "366/366 [==============================] - 0s 1ms/step - loss: 932265251.6185 - mean_squared_error: 932265251.6185\n",
            "Epoch 83/100\n",
            "366/366 [==============================] - 0s 1ms/step - loss: 756061547.3842 - mean_squared_error: 756061547.3842\n",
            "Epoch 84/100\n",
            "366/366 [==============================] - 0s 1ms/step - loss: 993676605.8638 - mean_squared_error: 993676605.8638\n",
            "Epoch 85/100\n",
            "366/366 [==============================] - 0s 1ms/step - loss: 360688912.9101 - mean_squared_error: 360688912.9101\n",
            "Epoch 86/100\n",
            "366/366 [==============================] - 0s 1ms/step - loss: 548592649.8747 - mean_squared_error: 548592649.8747\n",
            "Epoch 87/100\n",
            "366/366 [==============================] - 0s 1ms/step - loss: 684112010.8447 - mean_squared_error: 684112010.8447\n",
            "Epoch 88/100\n",
            "366/366 [==============================] - 0s 1ms/step - loss: 603242682.5313 - mean_squared_error: 603242682.5313\n",
            "Epoch 89/100\n",
            "366/366 [==============================] - 0s 1ms/step - loss: 692986240.2371 - mean_squared_error: 692986240.2371\n",
            "Epoch 90/100\n",
            "366/366 [==============================] - 0s 1ms/step - loss: 689964418.3910 - mean_squared_error: 689964418.3910\n",
            "Epoch 91/100\n",
            "366/366 [==============================] - 0s 1ms/step - loss: 570934200.9278 - mean_squared_error: 570934200.9278\n",
            "Epoch 92/100\n",
            "366/366 [==============================] - 0s 1ms/step - loss: 557222372.8467 - mean_squared_error: 557222372.8467\n",
            "Epoch 93/100\n",
            "366/366 [==============================] - 0s 1ms/step - loss: 695926208.9019 - mean_squared_error: 695926208.9019\n",
            "Epoch 94/100\n",
            "366/366 [==============================] - 0s 1ms/step - loss: 965389107.1826 - mean_squared_error: 965389107.1826\n",
            "Epoch 95/100\n",
            "366/366 [==============================] - 0s 1ms/step - loss: 331062289.1519 - mean_squared_error: 331062289.1519\n",
            "Epoch 96/100\n",
            "366/366 [==============================] - 0s 1ms/step - loss: 678991142.1274 - mean_squared_error: 678991142.1274\n",
            "Epoch 97/100\n",
            "366/366 [==============================] - 0s 1ms/step - loss: 1185139137.2623 - mean_squared_error: 1185139137.2623\n",
            "Epoch 98/100\n",
            "366/366 [==============================] - 0s 1ms/step - loss: 589088998.9155 - mean_squared_error: 589088998.9155\n",
            "Epoch 99/100\n",
            "366/366 [==============================] - 0s 1ms/step - loss: 369847722.3365 - mean_squared_error: 369847722.3365\n",
            "Epoch 100/100\n",
            "366/366 [==============================] - 0s 1ms/step - loss: 709595580.2507 - mean_squared_error: 709595580.2507\n",
            "Model: \"sequential\"\n",
            "_________________________________________________________________\n",
            "Layer (type)                 Output Shape              Param #   \n",
            "=================================================================\n",
            "dense (Dense)                (None, 6)                 48        \n",
            "_________________________________________________________________\n",
            "dense_1 (Dense)              (None, 6)                 42        \n",
            "_________________________________________________________________\n",
            "dense_2 (Dense)              (None, 1)                 7         \n",
            "=================================================================\n",
            "Total params: 97\n",
            "Trainable params: 97\n",
            "Non-trainable params: 0\n",
            "_________________________________________________________________\n",
            "Mean Absolute Error: 3300.784778740888\n",
            "Mean Squared Error: 830062055.604883\n",
            "Root Mean Squared Error: 28810.79755239141\n"
          ],
          "name": "stdout"
        }
      ]
    },
    {
      "cell_type": "code",
      "metadata": {
        "id": "wzxXKAvvhI6h"
      },
      "source": [
        "#Saving Scikitlearn models\n",
        "import joblib\n",
        "joblib.dump(decision_tree, \"decisiontree_youtubeadview.pkl\")\n",
        "\n",
        "# Saving Keras Artificial Neural Network model\n",
        "ann.save(\"ann_youtubeadview.h5\")"
      ],
      "execution_count": 24,
      "outputs": []
    },
    {
      "cell_type": "markdown",
      "metadata": {
        "id": "ZsLXlSQchZky"
      },
      "source": [
        "**Testing**"
      ]
    },
    {
      "cell_type": "code",
      "metadata": {
        "id": "sTEYuFhOhdx6"
      },
      "source": [
        "data_test = pd.read_csv(\"/content/drive/MyDrive/ml assignment/test.csv\")"
      ],
      "execution_count": 25,
      "outputs": []
    },
    {
      "cell_type": "code",
      "metadata": {
        "colab": {
          "base_uri": "https://localhost:8080/",
          "height": 204
        },
        "id": "Hx7Rcpt7hndr",
        "outputId": "e60f977b-fdc4-4406-95cc-02e13c2871f0"
      },
      "source": [
        "data_test.head()"
      ],
      "execution_count": 26,
      "outputs": [
        {
          "output_type": "execute_result",
          "data": {
            "text/html": [
              "<div>\n",
              "<style scoped>\n",
              "    .dataframe tbody tr th:only-of-type {\n",
              "        vertical-align: middle;\n",
              "    }\n",
              "\n",
              "    .dataframe tbody tr th {\n",
              "        vertical-align: top;\n",
              "    }\n",
              "\n",
              "    .dataframe thead th {\n",
              "        text-align: right;\n",
              "    }\n",
              "</style>\n",
              "<table border=\"1\" class=\"dataframe\">\n",
              "  <thead>\n",
              "    <tr style=\"text-align: right;\">\n",
              "      <th></th>\n",
              "      <th>vidid</th>\n",
              "      <th>views</th>\n",
              "      <th>likes</th>\n",
              "      <th>dislikes</th>\n",
              "      <th>comment</th>\n",
              "      <th>published</th>\n",
              "      <th>duration</th>\n",
              "      <th>category</th>\n",
              "    </tr>\n",
              "  </thead>\n",
              "  <tbody>\n",
              "    <tr>\n",
              "      <th>0</th>\n",
              "      <td>VID_1054</td>\n",
              "      <td>440238</td>\n",
              "      <td>6153</td>\n",
              "      <td>218</td>\n",
              "      <td>1377</td>\n",
              "      <td>2017-02-18</td>\n",
              "      <td>PT7M29S</td>\n",
              "      <td>B</td>\n",
              "    </tr>\n",
              "    <tr>\n",
              "      <th>1</th>\n",
              "      <td>VID_18629</td>\n",
              "      <td>1040132</td>\n",
              "      <td>8171</td>\n",
              "      <td>340</td>\n",
              "      <td>1047</td>\n",
              "      <td>2016-06-28</td>\n",
              "      <td>PT6M29S</td>\n",
              "      <td>F</td>\n",
              "    </tr>\n",
              "    <tr>\n",
              "      <th>2</th>\n",
              "      <td>VID_13967</td>\n",
              "      <td>28534</td>\n",
              "      <td>31</td>\n",
              "      <td>11</td>\n",
              "      <td>1</td>\n",
              "      <td>2014-03-10</td>\n",
              "      <td>PT37M54S</td>\n",
              "      <td>D</td>\n",
              "    </tr>\n",
              "    <tr>\n",
              "      <th>3</th>\n",
              "      <td>VID_19442</td>\n",
              "      <td>1316715</td>\n",
              "      <td>2284</td>\n",
              "      <td>250</td>\n",
              "      <td>274</td>\n",
              "      <td>2010-06-05</td>\n",
              "      <td>PT9M55S</td>\n",
              "      <td>G</td>\n",
              "    </tr>\n",
              "    <tr>\n",
              "      <th>4</th>\n",
              "      <td>VID_770</td>\n",
              "      <td>1893173</td>\n",
              "      <td>2519</td>\n",
              "      <td>225</td>\n",
              "      <td>116</td>\n",
              "      <td>2016-09-03</td>\n",
              "      <td>PT3M8S</td>\n",
              "      <td>B</td>\n",
              "    </tr>\n",
              "  </tbody>\n",
              "</table>\n",
              "</div>"
            ],
            "text/plain": [
              "       vidid    views likes dislikes comment   published  duration category\n",
              "0   VID_1054   440238  6153      218    1377  2017-02-18   PT7M29S        B\n",
              "1  VID_18629  1040132  8171      340    1047  2016-06-28   PT6M29S        F\n",
              "2  VID_13967    28534    31       11       1  2014-03-10  PT37M54S        D\n",
              "3  VID_19442  1316715  2284      250     274  2010-06-05   PT9M55S        G\n",
              "4    VID_770  1893173  2519      225     116  2016-09-03    PT3M8S        B"
            ]
          },
          "metadata": {
            "tags": []
          },
          "execution_count": 26
        }
      ]
    },
    {
      "cell_type": "code",
      "metadata": {
        "id": "OWAOSk_4hmsM"
      },
      "source": [
        "from keras.models import load_model\n",
        "model = load_model(\"/content/ann_youtubeadview.h5\")"
      ],
      "execution_count": 27,
      "outputs": []
    },
    {
      "cell_type": "code",
      "metadata": {
        "id": "CTWJbo8Wh5QZ"
      },
      "source": [
        "# Removing character \"F\" present in data\n",
        "data_test=data_test[data_test.views!='F']\n",
        "data_test=data_test[data_test.likes!='F']\n",
        "data_test=data_test[data_test.dislikes!='F']\n",
        "data_test=data_test[data_test.comment!='F']"
      ],
      "execution_count": 28,
      "outputs": []
    },
    {
      "cell_type": "code",
      "metadata": {
        "colab": {
          "base_uri": "https://localhost:8080/",
          "height": 204
        },
        "id": "I4w6apTZh5S7",
        "outputId": "bfd5e824-45c4-498c-a7d4-480dca860092"
      },
      "source": [
        "data_test.head()\n"
      ],
      "execution_count": 29,
      "outputs": [
        {
          "output_type": "execute_result",
          "data": {
            "text/html": [
              "<div>\n",
              "<style scoped>\n",
              "    .dataframe tbody tr th:only-of-type {\n",
              "        vertical-align: middle;\n",
              "    }\n",
              "\n",
              "    .dataframe tbody tr th {\n",
              "        vertical-align: top;\n",
              "    }\n",
              "\n",
              "    .dataframe thead th {\n",
              "        text-align: right;\n",
              "    }\n",
              "</style>\n",
              "<table border=\"1\" class=\"dataframe\">\n",
              "  <thead>\n",
              "    <tr style=\"text-align: right;\">\n",
              "      <th></th>\n",
              "      <th>vidid</th>\n",
              "      <th>views</th>\n",
              "      <th>likes</th>\n",
              "      <th>dislikes</th>\n",
              "      <th>comment</th>\n",
              "      <th>published</th>\n",
              "      <th>duration</th>\n",
              "      <th>category</th>\n",
              "    </tr>\n",
              "  </thead>\n",
              "  <tbody>\n",
              "    <tr>\n",
              "      <th>0</th>\n",
              "      <td>VID_1054</td>\n",
              "      <td>440238</td>\n",
              "      <td>6153</td>\n",
              "      <td>218</td>\n",
              "      <td>1377</td>\n",
              "      <td>2017-02-18</td>\n",
              "      <td>PT7M29S</td>\n",
              "      <td>B</td>\n",
              "    </tr>\n",
              "    <tr>\n",
              "      <th>1</th>\n",
              "      <td>VID_18629</td>\n",
              "      <td>1040132</td>\n",
              "      <td>8171</td>\n",
              "      <td>340</td>\n",
              "      <td>1047</td>\n",
              "      <td>2016-06-28</td>\n",
              "      <td>PT6M29S</td>\n",
              "      <td>F</td>\n",
              "    </tr>\n",
              "    <tr>\n",
              "      <th>2</th>\n",
              "      <td>VID_13967</td>\n",
              "      <td>28534</td>\n",
              "      <td>31</td>\n",
              "      <td>11</td>\n",
              "      <td>1</td>\n",
              "      <td>2014-03-10</td>\n",
              "      <td>PT37M54S</td>\n",
              "      <td>D</td>\n",
              "    </tr>\n",
              "    <tr>\n",
              "      <th>3</th>\n",
              "      <td>VID_19442</td>\n",
              "      <td>1316715</td>\n",
              "      <td>2284</td>\n",
              "      <td>250</td>\n",
              "      <td>274</td>\n",
              "      <td>2010-06-05</td>\n",
              "      <td>PT9M55S</td>\n",
              "      <td>G</td>\n",
              "    </tr>\n",
              "    <tr>\n",
              "      <th>4</th>\n",
              "      <td>VID_770</td>\n",
              "      <td>1893173</td>\n",
              "      <td>2519</td>\n",
              "      <td>225</td>\n",
              "      <td>116</td>\n",
              "      <td>2016-09-03</td>\n",
              "      <td>PT3M8S</td>\n",
              "      <td>B</td>\n",
              "    </tr>\n",
              "  </tbody>\n",
              "</table>\n",
              "</div>"
            ],
            "text/plain": [
              "       vidid    views likes dislikes comment   published  duration category\n",
              "0   VID_1054   440238  6153      218    1377  2017-02-18   PT7M29S        B\n",
              "1  VID_18629  1040132  8171      340    1047  2016-06-28   PT6M29S        F\n",
              "2  VID_13967    28534    31       11       1  2014-03-10  PT37M54S        D\n",
              "3  VID_19442  1316715  2284      250     274  2010-06-05   PT9M55S        G\n",
              "4    VID_770  1893173  2519      225     116  2016-09-03    PT3M8S        B"
            ]
          },
          "metadata": {
            "tags": []
          },
          "execution_count": 29
        }
      ]
    },
    {
      "cell_type": "code",
      "metadata": {
        "colab": {
          "base_uri": "https://localhost:8080/",
          "height": 204
        },
        "id": "GG1UfDBoh93k",
        "outputId": "d4c0e3bd-99ac-47fb-b9dc-e5ee4fc6713e"
      },
      "source": [
        "# Assigning each category a number for Category feature\n",
        "category={'A': 1,'B':2,'C':3,'D':4,'E':5,'F':6,'G':7,'H':8}\n",
        "data_test[\"category\"]=data_test[\"category\"].map(category)\n",
        "data_test.head()"
      ],
      "execution_count": 30,
      "outputs": [
        {
          "output_type": "execute_result",
          "data": {
            "text/html": [
              "<div>\n",
              "<style scoped>\n",
              "    .dataframe tbody tr th:only-of-type {\n",
              "        vertical-align: middle;\n",
              "    }\n",
              "\n",
              "    .dataframe tbody tr th {\n",
              "        vertical-align: top;\n",
              "    }\n",
              "\n",
              "    .dataframe thead th {\n",
              "        text-align: right;\n",
              "    }\n",
              "</style>\n",
              "<table border=\"1\" class=\"dataframe\">\n",
              "  <thead>\n",
              "    <tr style=\"text-align: right;\">\n",
              "      <th></th>\n",
              "      <th>vidid</th>\n",
              "      <th>views</th>\n",
              "      <th>likes</th>\n",
              "      <th>dislikes</th>\n",
              "      <th>comment</th>\n",
              "      <th>published</th>\n",
              "      <th>duration</th>\n",
              "      <th>category</th>\n",
              "    </tr>\n",
              "  </thead>\n",
              "  <tbody>\n",
              "    <tr>\n",
              "      <th>0</th>\n",
              "      <td>VID_1054</td>\n",
              "      <td>440238</td>\n",
              "      <td>6153</td>\n",
              "      <td>218</td>\n",
              "      <td>1377</td>\n",
              "      <td>2017-02-18</td>\n",
              "      <td>PT7M29S</td>\n",
              "      <td>2</td>\n",
              "    </tr>\n",
              "    <tr>\n",
              "      <th>1</th>\n",
              "      <td>VID_18629</td>\n",
              "      <td>1040132</td>\n",
              "      <td>8171</td>\n",
              "      <td>340</td>\n",
              "      <td>1047</td>\n",
              "      <td>2016-06-28</td>\n",
              "      <td>PT6M29S</td>\n",
              "      <td>6</td>\n",
              "    </tr>\n",
              "    <tr>\n",
              "      <th>2</th>\n",
              "      <td>VID_13967</td>\n",
              "      <td>28534</td>\n",
              "      <td>31</td>\n",
              "      <td>11</td>\n",
              "      <td>1</td>\n",
              "      <td>2014-03-10</td>\n",
              "      <td>PT37M54S</td>\n",
              "      <td>4</td>\n",
              "    </tr>\n",
              "    <tr>\n",
              "      <th>3</th>\n",
              "      <td>VID_19442</td>\n",
              "      <td>1316715</td>\n",
              "      <td>2284</td>\n",
              "      <td>250</td>\n",
              "      <td>274</td>\n",
              "      <td>2010-06-05</td>\n",
              "      <td>PT9M55S</td>\n",
              "      <td>7</td>\n",
              "    </tr>\n",
              "    <tr>\n",
              "      <th>4</th>\n",
              "      <td>VID_770</td>\n",
              "      <td>1893173</td>\n",
              "      <td>2519</td>\n",
              "      <td>225</td>\n",
              "      <td>116</td>\n",
              "      <td>2016-09-03</td>\n",
              "      <td>PT3M8S</td>\n",
              "      <td>2</td>\n",
              "    </tr>\n",
              "  </tbody>\n",
              "</table>\n",
              "</div>"
            ],
            "text/plain": [
              "       vidid    views likes dislikes comment   published  duration  category\n",
              "0   VID_1054   440238  6153      218    1377  2017-02-18   PT7M29S         2\n",
              "1  VID_18629  1040132  8171      340    1047  2016-06-28   PT6M29S         6\n",
              "2  VID_13967    28534    31       11       1  2014-03-10  PT37M54S         4\n",
              "3  VID_19442  1316715  2284      250     274  2010-06-05   PT9M55S         7\n",
              "4    VID_770  1893173  2519      225     116  2016-09-03    PT3M8S         2"
            ]
          },
          "metadata": {
            "tags": []
          },
          "execution_count": 30
        }
      ]
    },
    {
      "cell_type": "code",
      "metadata": {
        "colab": {
          "base_uri": "https://localhost:8080/",
          "height": 204
        },
        "id": "OoPC0G-liBPQ",
        "outputId": "7d04c62f-c4e7-4495-a9d0-614fbcf4f3d7"
      },
      "source": [
        "# Convert values to integers for views, likes, comments, dislikes and adview\n",
        "data_test[\"views\"] = pd.to_numeric(data_test[\"views\"])\n",
        "data_test[\"comment\"] = pd.to_numeric(data_test[\"comment\"])\n",
        "data_test[\"likes\"] = pd.to_numeric(data_test[\"likes\"])\n",
        "data_test[\"dislikes\"] = pd.to_numeric(data_test[\"dislikes\"])\n",
        "column_vidid=data_test['vidid']\n",
        "\n",
        "# Endoding features like Category, Duration, Vidid\n",
        "from sklearn.preprocessing import LabelEncoder\n",
        "data_test['duration']=LabelEncoder().fit_transform(data_test['duration'])\n",
        "data_test['vidid']=LabelEncoder().fit_transform(data_test['vidid'])\n",
        "data_test['published']=LabelEncoder().fit_transform(data_test['published'])\n",
        "data_test.head()"
      ],
      "execution_count": 31,
      "outputs": [
        {
          "output_type": "execute_result",
          "data": {
            "text/html": [
              "<div>\n",
              "<style scoped>\n",
              "    .dataframe tbody tr th:only-of-type {\n",
              "        vertical-align: middle;\n",
              "    }\n",
              "\n",
              "    .dataframe tbody tr th {\n",
              "        vertical-align: top;\n",
              "    }\n",
              "\n",
              "    .dataframe thead th {\n",
              "        text-align: right;\n",
              "    }\n",
              "</style>\n",
              "<table border=\"1\" class=\"dataframe\">\n",
              "  <thead>\n",
              "    <tr style=\"text-align: right;\">\n",
              "      <th></th>\n",
              "      <th>vidid</th>\n",
              "      <th>views</th>\n",
              "      <th>likes</th>\n",
              "      <th>dislikes</th>\n",
              "      <th>comment</th>\n",
              "      <th>published</th>\n",
              "      <th>duration</th>\n",
              "      <th>category</th>\n",
              "    </tr>\n",
              "  </thead>\n",
              "  <tbody>\n",
              "    <tr>\n",
              "      <th>0</th>\n",
              "      <td>231</td>\n",
              "      <td>440238</td>\n",
              "      <td>6153</td>\n",
              "      <td>218</td>\n",
              "      <td>1377</td>\n",
              "      <td>2053</td>\n",
              "      <td>2115</td>\n",
              "      <td>2</td>\n",
              "    </tr>\n",
              "    <tr>\n",
              "      <th>1</th>\n",
              "      <td>3444</td>\n",
              "      <td>1040132</td>\n",
              "      <td>8171</td>\n",
              "      <td>340</td>\n",
              "      <td>1047</td>\n",
              "      <td>1825</td>\n",
              "      <td>2055</td>\n",
              "      <td>6</td>\n",
              "    </tr>\n",
              "    <tr>\n",
              "      <th>2</th>\n",
              "      <td>1593</td>\n",
              "      <td>28534</td>\n",
              "      <td>31</td>\n",
              "      <td>11</td>\n",
              "      <td>1</td>\n",
              "      <td>1009</td>\n",
              "      <td>1506</td>\n",
              "      <td>4</td>\n",
              "    </tr>\n",
              "    <tr>\n",
              "      <th>3</th>\n",
              "      <td>3775</td>\n",
              "      <td>1316715</td>\n",
              "      <td>2284</td>\n",
              "      <td>250</td>\n",
              "      <td>274</td>\n",
              "      <td>116</td>\n",
              "      <td>2265</td>\n",
              "      <td>7</td>\n",
              "    </tr>\n",
              "    <tr>\n",
              "      <th>4</th>\n",
              "      <td>7644</td>\n",
              "      <td>1893173</td>\n",
              "      <td>2519</td>\n",
              "      <td>225</td>\n",
              "      <td>116</td>\n",
              "      <td>1892</td>\n",
              "      <td>1625</td>\n",
              "      <td>2</td>\n",
              "    </tr>\n",
              "  </tbody>\n",
              "</table>\n",
              "</div>"
            ],
            "text/plain": [
              "   vidid    views  likes  dislikes  comment  published  duration  category\n",
              "0    231   440238   6153       218     1377       2053      2115         2\n",
              "1   3444  1040132   8171       340     1047       1825      2055         6\n",
              "2   1593    28534     31        11        1       1009      1506         4\n",
              "3   3775  1316715   2284       250      274        116      2265         7\n",
              "4   7644  1893173   2519       225      116       1892      1625         2"
            ]
          },
          "metadata": {
            "tags": []
          },
          "execution_count": 31
        }
      ]
    },
    {
      "cell_type": "code",
      "metadata": {
        "colab": {
          "base_uri": "https://localhost:8080/",
          "height": 204
        },
        "id": "LEJooPdZiKWR",
        "outputId": "3fce6aee-3cfc-4ad6-cb2c-16477ebbb8f4"
      },
      "source": [
        "# Convert Time_in_sec for duration\n",
        "import datetime\n",
        "import time\n",
        "def checki(x):\n",
        "  y = x[2:]\n",
        "  h = ''\n",
        "  m = ''\n",
        "  s = ''\n",
        "  mm = ''\n",
        "  P = ['H','M','S']\n",
        "  for i in y:\n",
        "    if i not in P:\n",
        "      mm+=i\n",
        "    else:\n",
        "      if(i==\"H\"):\n",
        "        h = mm\n",
        "        mm = ''\n",
        "      elif(i == \"M\"):\n",
        "        m = mm\n",
        "        mm = ''\n",
        "      else:\n",
        "        s = mm\n",
        "        mm = ''\n",
        "  if(h==''):\n",
        "    h = '00'\n",
        "  if(m == ''):\n",
        "    m = '00'\n",
        "  if(s==''):\n",
        "    s='00'\n",
        "  bp = h+':'+m+':'+s\n",
        "  return bp\n",
        "\n",
        "train=pd.read_csv # Convert Time_in_sec for duration\n",
        "import datetime\n",
        "import time\n",
        "def checki(x):\n",
        "  y = x[2:]\n",
        "  h = ''\n",
        "  m = ''\n",
        "  s = ''\n",
        "  mm = ''\n",
        "  P = ['H','M','S']\n",
        "  for i in y:\n",
        "    if i not in P:\n",
        "      mm+=i\n",
        "    else:\n",
        "      if(i==\"H\"):\n",
        "        h = mm\n",
        "        mm = ''\n",
        "      elif(i == \"M\"):\n",
        "        m = mm\n",
        "        mm = ''\n",
        "      else:\n",
        "        s = mm\n",
        "        mm = ''\n",
        "  if(h==''):\n",
        "    h = '00'\n",
        "  if(m == ''):\n",
        "    m = '00'\n",
        "  if(s==''):\n",
        "    s='00'\n",
        "  bp = h+':'+m+':'+s\n",
        "  return bp\n",
        "\n",
        "train=pd.read_csv(\"/content/drive/MyDrive/ml assignment/test.csv\")\n",
        "mp = pd.read_csv(path)[\"duration\"]\n",
        "time = mp.apply(checki)\n",
        "\n",
        "def func_sec(time_string):\n",
        "  h, m, s = time_string.split(':')\n",
        "  return int(h) * 3600 + int(m) * 60 + int(s)\n",
        "\n",
        "time1=time.apply(func_sec)\n",
        "\n",
        "data_test[\"duration\"]=time1\n",
        "data_test.head()\n",
        "mp = pd.read_csv(path)[\"duration\"]\n",
        "time = mp.apply(checki)\n",
        "\n",
        "def func_sec(time_string):\n",
        "  h, m, s = time_string.split(':')\n",
        "  return int(h) * 3600 + int(m) * 60 + int(s)\n",
        "\n",
        "time1=time.apply(func_sec)\n",
        "\n",
        "data_test[\"duration\"]=time1\n",
        "data_test.head()"
      ],
      "execution_count": 35,
      "outputs": [
        {
          "output_type": "execute_result",
          "data": {
            "text/html": [
              "<div>\n",
              "<style scoped>\n",
              "    .dataframe tbody tr th:only-of-type {\n",
              "        vertical-align: middle;\n",
              "    }\n",
              "\n",
              "    .dataframe tbody tr th {\n",
              "        vertical-align: top;\n",
              "    }\n",
              "\n",
              "    .dataframe thead th {\n",
              "        text-align: right;\n",
              "    }\n",
              "</style>\n",
              "<table border=\"1\" class=\"dataframe\">\n",
              "  <thead>\n",
              "    <tr style=\"text-align: right;\">\n",
              "      <th></th>\n",
              "      <th>vidid</th>\n",
              "      <th>views</th>\n",
              "      <th>likes</th>\n",
              "      <th>dislikes</th>\n",
              "      <th>comment</th>\n",
              "      <th>published</th>\n",
              "      <th>duration</th>\n",
              "      <th>category</th>\n",
              "    </tr>\n",
              "  </thead>\n",
              "  <tbody>\n",
              "    <tr>\n",
              "      <th>0</th>\n",
              "      <td>231</td>\n",
              "      <td>440238</td>\n",
              "      <td>6153</td>\n",
              "      <td>218</td>\n",
              "      <td>1377</td>\n",
              "      <td>2053</td>\n",
              "      <td>457</td>\n",
              "      <td>2</td>\n",
              "    </tr>\n",
              "    <tr>\n",
              "      <th>1</th>\n",
              "      <td>3444</td>\n",
              "      <td>1040132</td>\n",
              "      <td>8171</td>\n",
              "      <td>340</td>\n",
              "      <td>1047</td>\n",
              "      <td>1825</td>\n",
              "      <td>570</td>\n",
              "      <td>6</td>\n",
              "    </tr>\n",
              "    <tr>\n",
              "      <th>2</th>\n",
              "      <td>1593</td>\n",
              "      <td>28534</td>\n",
              "      <td>31</td>\n",
              "      <td>11</td>\n",
              "      <td>1</td>\n",
              "      <td>1009</td>\n",
              "      <td>136</td>\n",
              "      <td>4</td>\n",
              "    </tr>\n",
              "    <tr>\n",
              "      <th>3</th>\n",
              "      <td>3775</td>\n",
              "      <td>1316715</td>\n",
              "      <td>2284</td>\n",
              "      <td>250</td>\n",
              "      <td>274</td>\n",
              "      <td>116</td>\n",
              "      <td>262</td>\n",
              "      <td>7</td>\n",
              "    </tr>\n",
              "    <tr>\n",
              "      <th>4</th>\n",
              "      <td>7644</td>\n",
              "      <td>1893173</td>\n",
              "      <td>2519</td>\n",
              "      <td>225</td>\n",
              "      <td>116</td>\n",
              "      <td>1892</td>\n",
              "      <td>31</td>\n",
              "      <td>2</td>\n",
              "    </tr>\n",
              "  </tbody>\n",
              "</table>\n",
              "</div>"
            ],
            "text/plain": [
              "   vidid    views  likes  dislikes  comment  published  duration  category\n",
              "0    231   440238   6153       218     1377       2053       457         2\n",
              "1   3444  1040132   8171       340     1047       1825       570         6\n",
              "2   1593    28534     31        11        1       1009       136         4\n",
              "3   3775  1316715   2284       250      274        116       262         7\n",
              "4   7644  1893173   2519       225      116       1892        31         2"
            ]
          },
          "metadata": {
            "tags": []
          },
          "execution_count": 35
        }
      ]
    },
    {
      "cell_type": "code",
      "metadata": {
        "colab": {
          "base_uri": "https://localhost:8080/",
          "height": 204
        },
        "id": "iIGGK-Ppihhm",
        "outputId": "29ef04e0-5e12-4dfc-a8de-6a90ebb5738b"
      },
      "source": [
        "data_test=data_test.drop([\"vidid\"],axis=1)\n",
        "data_test.head()"
      ],
      "execution_count": 36,
      "outputs": [
        {
          "output_type": "execute_result",
          "data": {
            "text/html": [
              "<div>\n",
              "<style scoped>\n",
              "    .dataframe tbody tr th:only-of-type {\n",
              "        vertical-align: middle;\n",
              "    }\n",
              "\n",
              "    .dataframe tbody tr th {\n",
              "        vertical-align: top;\n",
              "    }\n",
              "\n",
              "    .dataframe thead th {\n",
              "        text-align: right;\n",
              "    }\n",
              "</style>\n",
              "<table border=\"1\" class=\"dataframe\">\n",
              "  <thead>\n",
              "    <tr style=\"text-align: right;\">\n",
              "      <th></th>\n",
              "      <th>views</th>\n",
              "      <th>likes</th>\n",
              "      <th>dislikes</th>\n",
              "      <th>comment</th>\n",
              "      <th>published</th>\n",
              "      <th>duration</th>\n",
              "      <th>category</th>\n",
              "    </tr>\n",
              "  </thead>\n",
              "  <tbody>\n",
              "    <tr>\n",
              "      <th>0</th>\n",
              "      <td>440238</td>\n",
              "      <td>6153</td>\n",
              "      <td>218</td>\n",
              "      <td>1377</td>\n",
              "      <td>2053</td>\n",
              "      <td>457</td>\n",
              "      <td>2</td>\n",
              "    </tr>\n",
              "    <tr>\n",
              "      <th>1</th>\n",
              "      <td>1040132</td>\n",
              "      <td>8171</td>\n",
              "      <td>340</td>\n",
              "      <td>1047</td>\n",
              "      <td>1825</td>\n",
              "      <td>570</td>\n",
              "      <td>6</td>\n",
              "    </tr>\n",
              "    <tr>\n",
              "      <th>2</th>\n",
              "      <td>28534</td>\n",
              "      <td>31</td>\n",
              "      <td>11</td>\n",
              "      <td>1</td>\n",
              "      <td>1009</td>\n",
              "      <td>136</td>\n",
              "      <td>4</td>\n",
              "    </tr>\n",
              "    <tr>\n",
              "      <th>3</th>\n",
              "      <td>1316715</td>\n",
              "      <td>2284</td>\n",
              "      <td>250</td>\n",
              "      <td>274</td>\n",
              "      <td>116</td>\n",
              "      <td>262</td>\n",
              "      <td>7</td>\n",
              "    </tr>\n",
              "    <tr>\n",
              "      <th>4</th>\n",
              "      <td>1893173</td>\n",
              "      <td>2519</td>\n",
              "      <td>225</td>\n",
              "      <td>116</td>\n",
              "      <td>1892</td>\n",
              "      <td>31</td>\n",
              "      <td>2</td>\n",
              "    </tr>\n",
              "  </tbody>\n",
              "</table>\n",
              "</div>"
            ],
            "text/plain": [
              "     views  likes  dislikes  comment  published  duration  category\n",
              "0   440238   6153       218     1377       2053       457         2\n",
              "1  1040132   8171       340     1047       1825       570         6\n",
              "2    28534     31        11        1       1009       136         4\n",
              "3  1316715   2284       250      274        116       262         7\n",
              "4  1893173   2519       225      116       1892        31         2"
            ]
          },
          "metadata": {
            "tags": []
          },
          "execution_count": 36
        }
      ]
    },
    {
      "cell_type": "code",
      "metadata": {
        "id": "i3i6MwIWik5L"
      },
      "source": [
        "from sklearn.preprocessing import MinMaxScaler\n",
        "scaler = MinMaxScaler()\n",
        "X_test = data_test\n",
        "X_test=scaler.fit_transform(X_test)"
      ],
      "execution_count": 37,
      "outputs": []
    },
    {
      "cell_type": "code",
      "metadata": {
        "id": "B4sTLJwrin-t"
      },
      "source": [
        "prediction = model.predict(X_test)"
      ],
      "execution_count": 38,
      "outputs": []
    },
    {
      "cell_type": "code",
      "metadata": {
        "colab": {
          "base_uri": "https://localhost:8080/"
        },
        "id": "z1Jtf14lirZy",
        "outputId": "ba091938-8ca8-4ebe-f116-2bde49ad0c64"
      },
      "source": [
        "prediction=pd.DataFrame(prediction)\n",
        "prediction.info()\n"
      ],
      "execution_count": 39,
      "outputs": [
        {
          "output_type": "stream",
          "text": [
            "<class 'pandas.core.frame.DataFrame'>\n",
            "RangeIndex: 8549 entries, 0 to 8548\n",
            "Data columns (total 1 columns):\n",
            " #   Column  Non-Null Count  Dtype  \n",
            "---  ------  --------------  -----  \n",
            " 0   0       8549 non-null   float32\n",
            "dtypes: float32(1)\n",
            "memory usage: 33.5 KB\n"
          ],
          "name": "stdout"
        }
      ]
    },
    {
      "cell_type": "code",
      "metadata": {
        "id": "UNXpS8dnirc6"
      },
      "source": [
        "prediction = prediction.rename(columns={0: \"Adview\"})\n"
      ],
      "execution_count": 40,
      "outputs": []
    },
    {
      "cell_type": "code",
      "metadata": {
        "colab": {
          "base_uri": "https://localhost:8080/",
          "height": 204
        },
        "id": "XhhLzaiJixu2",
        "outputId": "c78e3cb4-e545-46bf-bef2-5afbcc0b1fdb"
      },
      "source": [
        "prediction.head()"
      ],
      "execution_count": 44,
      "outputs": [
        {
          "output_type": "execute_result",
          "data": {
            "text/html": [
              "<div>\n",
              "<style scoped>\n",
              "    .dataframe tbody tr th:only-of-type {\n",
              "        vertical-align: middle;\n",
              "    }\n",
              "\n",
              "    .dataframe tbody tr th {\n",
              "        vertical-align: top;\n",
              "    }\n",
              "\n",
              "    .dataframe thead th {\n",
              "        text-align: right;\n",
              "    }\n",
              "</style>\n",
              "<table border=\"1\" class=\"dataframe\">\n",
              "  <thead>\n",
              "    <tr style=\"text-align: right;\">\n",
              "      <th></th>\n",
              "      <th>Adview</th>\n",
              "    </tr>\n",
              "  </thead>\n",
              "  <tbody>\n",
              "    <tr>\n",
              "      <th>0</th>\n",
              "      <td>1938.860718</td>\n",
              "    </tr>\n",
              "    <tr>\n",
              "      <th>1</th>\n",
              "      <td>2229.886475</td>\n",
              "    </tr>\n",
              "    <tr>\n",
              "      <th>2</th>\n",
              "      <td>1615.133423</td>\n",
              "    </tr>\n",
              "    <tr>\n",
              "      <th>3</th>\n",
              "      <td>1473.305908</td>\n",
              "    </tr>\n",
              "    <tr>\n",
              "      <th>4</th>\n",
              "      <td>1873.034668</td>\n",
              "    </tr>\n",
              "  </tbody>\n",
              "</table>\n",
              "</div>"
            ],
            "text/plain": [
              "        Adview\n",
              "0  1938.860718\n",
              "1  2229.886475\n",
              "2  1615.133423\n",
              "3  1473.305908\n",
              "4  1873.034668"
            ]
          },
          "metadata": {
            "tags": []
          },
          "execution_count": 44
        }
      ]
    },
    {
      "cell_type": "code",
      "metadata": {
        "id": "9zY2spUsi3zc"
      },
      "source": [
        "prediction.to_csv('predictions.csv')"
      ],
      "execution_count": 42,
      "outputs": []
    }
  ]
}
